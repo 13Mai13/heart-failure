{
 "cells": [
  {
   "cell_type": "markdown",
   "id": "7be5e13c",
   "metadata": {},
   "source": [
    "# Heart Failure Prediction Notebook"
   ]
  },
  {
   "cell_type": "code",
   "execution_count": null,
   "id": "14009c03-a856-434c-b481-ca6c4389e8c6",
   "metadata": {},
   "outputs": [],
   "source": [
    "import pandas as pd\n",
    "import numpy as np\n",
    "import matplotlib.pyplot as plt\n",
    "import seaborn as sns\n",
    "import missingno as msno"
   ]
  },
  {
   "cell_type": "markdown",
   "id": "0991485c",
   "metadata": {},
   "source": [
    "## EDA"
   ]
  },
  {
   "cell_type": "code",
   "execution_count": null,
   "id": "c42c897d",
   "metadata": {},
   "outputs": [],
   "source": [
    "data = pd.read_csv('../data/data.csv')"
   ]
  },
  {
   "cell_type": "code",
   "execution_count": null,
   "id": "716d502d",
   "metadata": {},
   "outputs": [],
   "source": [
    "data.head()"
   ]
  },
  {
   "cell_type": "markdown",
   "id": "3d1dc0b2",
   "metadata": {},
   "source": [
    "### Descriptive Analytics"
   ]
  },
  {
   "cell_type": "code",
   "execution_count": null,
   "id": "fc2c27a7",
   "metadata": {},
   "outputs": [],
   "source": [
    "data.describe()"
   ]
  },
  {
   "cell_type": "code",
   "execution_count": null,
   "id": "218cf3ae",
   "metadata": {},
   "outputs": [],
   "source": [
    "data.shape"
   ]
  },
  {
   "cell_type": "code",
   "execution_count": null,
   "id": "45854fe3",
   "metadata": {},
   "outputs": [],
   "source": [
    "data.dtypes"
   ]
  },
  {
   "cell_type": "markdown",
   "id": "f8544bc8-6172-4a79-816c-6fb4d8c0ed41",
   "metadata": {},
   "source": [
    "#### Univariate analisis"
   ]
  },
  {
   "cell_type": "markdown",
   "id": "de5db5a6-ac5d-4a3a-9ade-88e0d1750435",
   "metadata": {},
   "source": [
    "###### Numerical Features"
   ]
  },
  {
   "cell_type": "code",
   "execution_count": null,
   "id": "27305b9f-70b1-4069-a799-dba97c6b1e2c",
   "metadata": {},
   "outputs": [],
   "source": [
    "numerical_features = ['Age', 'RestingBP', 'Cholesterol', 'MaxHR', 'Oldpeak']\n",
    "categorical_features = ['Sex', 'ChestPainType', 'RestingECG', 'ExerciseAngina', 'ST_Slope', 'HeartDisease']"
   ]
  },
  {
   "cell_type": "code",
   "execution_count": null,
   "id": "bdbbe2ae-c80d-485d-a108-d654e6f3f181",
   "metadata": {},
   "outputs": [],
   "source": [
    "for column in continous_features: \n",
    "    plt.figure(figsize=(20, 10))\n",
    "    sns.histplot(data=data, x=f\"{column}\")\n",
    "    plt.xlabel(f\"{column}\")\n",
    "    # plt.xlabel(f\"Distribution\")\n",
    "    plt.savefig(f\"../results/EDA/eda_{column}.png\")\n",
    "    plt.show()\n",
    "    plt.close()"
   ]
  },
  {
   "cell_type": "code",
   "execution_count": null,
   "id": "97e14fa8-d461-4c92-b814-f57581d9ca88",
   "metadata": {},
   "outputs": [],
   "source": [
    "###### Categorical Features"
   ]
  },
  {
   "cell_type": "code",
   "execution_count": null,
   "id": "7fef4576-5be8-45ce-83f5-50081b3ff967",
   "metadata": {},
   "outputs": [],
   "source": [
    "for column in categorical_features: \n",
    "    plt.figure(figsize=(20, 10))\n",
    "    ax = sns.countplot(x=f\"{column}\", data=data)\n",
    "    for p in ax.patches:\n",
    "        ax.annotate(f'\\n{p.get_height()}', (p.get_x()+0.2, p.get_height()), ha='center', va='top', color='white', size=18)\n",
    "    plt.xlabel(f\"{column}\")\n",
    "    plt.savefig(f\"../results/EDA/eda_{column}.png\")\n",
    "    plt.show()\n",
    "    plt.close()"
   ]
  },
  {
   "cell_type": "markdown",
   "id": "1c194136-8cc6-4aee-ac21-cd91435c12a6",
   "metadata": {},
   "source": [
    "We can conclude that the dataset is not imbalaced, since there is no minorty class and we have a almost 50 / 50 ratio between those how suffered a heart failure and those that no"
   ]
  },
  {
   "cell_type": "markdown",
   "id": "fd6d82d9-b053-4041-bee5-0a2bed68a96f",
   "metadata": {},
   "source": [
    "### Missing Values"
   ]
  },
  {
   "cell_type": "code",
   "execution_count": null,
   "id": "d2b7e528-a11e-4e4c-8de6-91b532c58134",
   "metadata": {},
   "outputs": [],
   "source": [
    "msno.matrix(data)"
   ]
  },
  {
   "cell_type": "code",
   "execution_count": null,
   "id": "30161740-5958-4f24-ac9a-6758fcbafab7",
   "metadata": {},
   "outputs": [],
   "source": [
    "msno.bar(data)"
   ]
  },
  {
   "cell_type": "markdown",
   "id": "07ae5c50-5056-46e2-acd4-495e33d7d5d7",
   "metadata": {},
   "source": [
    "There are no missing values in this dataset."
   ]
  },
  {
   "cell_type": "markdown",
   "id": "a2715a6c",
   "metadata": {},
   "source": []
  },
  {
   "cell_type": "code",
   "execution_count": null,
   "id": "9d0594b2",
   "metadata": {},
   "outputs": [],
   "source": []
  },
  {
   "cell_type": "markdown",
   "id": "0e8f9f1c",
   "metadata": {},
   "source": [
    "#### Categorical features"
   ]
  },
  {
   "cell_type": "code",
   "execution_count": null,
   "id": "230cd90c",
   "metadata": {},
   "outputs": [],
   "source": []
  },
  {
   "cell_type": "markdown",
   "id": "b741ee07-33b1-45a9-aef9-3f0ab48705c3",
   "metadata": {},
   "source": [
    "### Multivariate Analysis: Relationship with the target column"
   ]
  },
  {
   "cell_type": "markdown",
   "id": "08300d77-cf5a-4556-a82f-4bb18e324a45",
   "metadata": {},
   "source": [
    "The target column in this case is very clear, HeartDisease. We already know that it is not balanced, but know we will try to detect any pattern. "
   ]
  },
  {
   "cell_type": "markdown",
   "id": "1c9a9f4d-0cd4-4501-9958-964449a4e70a",
   "metadata": {},
   "source": [
    "#### Continous features"
   ]
  },
  {
   "cell_type": "code",
   "execution_count": null,
   "id": "8b3c1e3a-5429-4b3c-bf29-f2645a01ca51",
   "metadata": {},
   "outputs": [],
   "source": [
    "for column in continous_features: \n",
    "    plt.figure(figsize=(20, 10))\n",
    "    plt.title(f\"Distribution of {column}\")\n",
    "    ax = sns.violinplot(x=\"HeartDisease\", y=f\"{column}\",\n",
    "                    data=data, palette=\"Set2\", split=True,\n",
    "                    scale=\"count\")\n",
    "    plt.xlabel(f\"{column}\")\n",
    "    plt.savefig(f\"../results/EDA/violin_{column}.png\")\n",
    "    plt.show()\n",
    "    plt.close()\n",
    "    \n",
    "    plt.figure(figsize=(20, 10))\n",
    "    ax = sns.boxplot(x=\"HeartDisease\", y=f\"{column}\", data=data, palette=\"Set2\")\n",
    "    plt.xlabel(f\"{column}\")\n",
    "    plt.savefig(f\"../results/EDA/violin_{column}.png\")\n",
    "    plt.show()\n",
    "    plt.close()\n",
    "    "
   ]
  },
  {
   "cell_type": "markdown",
   "id": "f4f1045f-95cd-4f3e-99ce-229624f8f7ab",
   "metadata": {},
   "source": [
    "#### ANOVA analysis"
   ]
  },
  {
   "cell_type": "markdown",
   "id": "5d6623d4-8347-4329-9140-1bd8910fafe3",
   "metadata": {},
   "source": [
    "The idea of this analysis is to see if there is any connection between the target values and the different variables. "
   ]
  },
  {
   "cell_type": "markdown",
   "id": "1deb17ff-10fb-474d-9f6d-b1f1dffa5fe6",
   "metadata": {},
   "source": [
    "### Correlations"
   ]
  },
  {
   "cell_type": "code",
   "execution_count": null,
   "id": "99e6623e-9c31-46fc-b68d-cb6a7f16c4ac",
   "metadata": {},
   "outputs": [],
   "source": [
    "n"
   ]
  }
 ],
 "metadata": {
  "kernelspec": {
   "display_name": "Python 3 (ipykernel)",
   "language": "python",
   "name": "python3"
  },
  "language_info": {
   "codemirror_mode": {
    "name": "ipython",
    "version": 3
   },
   "file_extension": ".py",
   "mimetype": "text/x-python",
   "name": "python",
   "nbconvert_exporter": "python",
   "pygments_lexer": "ipython3",
   "version": "3.7.7"
  }
 },
 "nbformat": 4,
 "nbformat_minor": 5
}
