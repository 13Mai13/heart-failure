{
 "cells": [
  {
   "cell_type": "markdown",
   "id": "7be5e13c",
   "metadata": {},
   "source": [
    "# Heart Failure Prediction Notebook"
   ]
  },
  {
   "cell_type": "code",
   "execution_count": 1,
   "id": "14009c03-a856-434c-b481-ca6c4389e8c6",
   "metadata": {},
   "outputs": [],
   "source": [
    "import pandas as pd\n",
    "import numpy as np\n",
    "import matplotlib.pyplot as plt\n",
    "import seaborn as sns\n",
    "import missingno as msno\n",
    "import scipy.stats as stats\n",
    "from scipy.stats import kurtosis, skew\n",
    "from scipy.stats import chi2_contingency\n",
    "\n",
    "from sklearn.experimental import enable_iterative_imputer\n",
    "from sklearn.impute import IterativeImputer\n",
    "from sklearn.preprocessing import LabelEncoder\n",
    "from sklearn.tree import DecisionTreeClassifier\n",
    "import umap\n",
    "import sklearn.cluster as cluster\n",
    "from sklearn.preprocessing import StandardScaler\n",
    "from sklearn.decomposition import PCA\n",
    "from sklearn.metrics import confusion_matrix, ConfusionMatrixDisplay\n",
    "\n",
    "from sklearn.ensemble import RandomForestClassifier\n",
    "from sklearn import svm\n",
    "from sklearn.naive_bayes import GaussianNB\n",
    "from sklearn.linear_model import LogisticRegression\n",
    "from sklearn.neighbors import NearestNeighbors\n",
    "import xgboost as xgb\n",
    "from sklearn.ensemble import AdaBoostClassifier\n",
    "from sklearn.ensemble import GradientBoostingClassifier\n",
    "from lightgbm import LGBMClassifier"
   ]
  },
  {
   "cell_type": "markdown",
   "id": "0991485c",
   "metadata": {},
   "source": [
    "## EDA"
   ]
  },
  {
   "cell_type": "code",
   "execution_count": 2,
   "id": "c42c897d",
   "metadata": {},
   "outputs": [],
   "source": [
    "data = pd.read_csv('../data/data.csv')"
   ]
  },
  {
   "cell_type": "code",
   "execution_count": 3,
   "id": "716d502d",
   "metadata": {},
   "outputs": [
    {
     "data": {
      "text/html": [
       "<div>\n",
       "<style scoped>\n",
       "    .dataframe tbody tr th:only-of-type {\n",
       "        vertical-align: middle;\n",
       "    }\n",
       "\n",
       "    .dataframe tbody tr th {\n",
       "        vertical-align: top;\n",
       "    }\n",
       "\n",
       "    .dataframe thead th {\n",
       "        text-align: right;\n",
       "    }\n",
       "</style>\n",
       "<table border=\"1\" class=\"dataframe\">\n",
       "  <thead>\n",
       "    <tr style=\"text-align: right;\">\n",
       "      <th></th>\n",
       "      <th>Age</th>\n",
       "      <th>Sex</th>\n",
       "      <th>ChestPainType</th>\n",
       "      <th>RestingBP</th>\n",
       "      <th>Cholesterol</th>\n",
       "      <th>FastingBS</th>\n",
       "      <th>RestingECG</th>\n",
       "      <th>MaxHR</th>\n",
       "      <th>ExerciseAngina</th>\n",
       "      <th>Oldpeak</th>\n",
       "      <th>ST_Slope</th>\n",
       "      <th>HeartDisease</th>\n",
       "    </tr>\n",
       "  </thead>\n",
       "  <tbody>\n",
       "    <tr>\n",
       "      <th>0</th>\n",
       "      <td>40</td>\n",
       "      <td>M</td>\n",
       "      <td>ATA</td>\n",
       "      <td>140</td>\n",
       "      <td>289</td>\n",
       "      <td>0</td>\n",
       "      <td>Normal</td>\n",
       "      <td>172</td>\n",
       "      <td>N</td>\n",
       "      <td>0.0</td>\n",
       "      <td>Up</td>\n",
       "      <td>0</td>\n",
       "    </tr>\n",
       "    <tr>\n",
       "      <th>1</th>\n",
       "      <td>49</td>\n",
       "      <td>F</td>\n",
       "      <td>NAP</td>\n",
       "      <td>160</td>\n",
       "      <td>180</td>\n",
       "      <td>0</td>\n",
       "      <td>Normal</td>\n",
       "      <td>156</td>\n",
       "      <td>N</td>\n",
       "      <td>1.0</td>\n",
       "      <td>Flat</td>\n",
       "      <td>1</td>\n",
       "    </tr>\n",
       "    <tr>\n",
       "      <th>2</th>\n",
       "      <td>37</td>\n",
       "      <td>M</td>\n",
       "      <td>ATA</td>\n",
       "      <td>130</td>\n",
       "      <td>283</td>\n",
       "      <td>0</td>\n",
       "      <td>ST</td>\n",
       "      <td>98</td>\n",
       "      <td>N</td>\n",
       "      <td>0.0</td>\n",
       "      <td>Up</td>\n",
       "      <td>0</td>\n",
       "    </tr>\n",
       "    <tr>\n",
       "      <th>3</th>\n",
       "      <td>48</td>\n",
       "      <td>F</td>\n",
       "      <td>ASY</td>\n",
       "      <td>138</td>\n",
       "      <td>214</td>\n",
       "      <td>0</td>\n",
       "      <td>Normal</td>\n",
       "      <td>108</td>\n",
       "      <td>Y</td>\n",
       "      <td>1.5</td>\n",
       "      <td>Flat</td>\n",
       "      <td>1</td>\n",
       "    </tr>\n",
       "    <tr>\n",
       "      <th>4</th>\n",
       "      <td>54</td>\n",
       "      <td>M</td>\n",
       "      <td>NAP</td>\n",
       "      <td>150</td>\n",
       "      <td>195</td>\n",
       "      <td>0</td>\n",
       "      <td>Normal</td>\n",
       "      <td>122</td>\n",
       "      <td>N</td>\n",
       "      <td>0.0</td>\n",
       "      <td>Up</td>\n",
       "      <td>0</td>\n",
       "    </tr>\n",
       "  </tbody>\n",
       "</table>\n",
       "</div>"
      ],
      "text/plain": [
       "   Age Sex ChestPainType  RestingBP  Cholesterol  FastingBS RestingECG  MaxHR  \\\n",
       "0   40   M           ATA        140          289          0     Normal    172   \n",
       "1   49   F           NAP        160          180          0     Normal    156   \n",
       "2   37   M           ATA        130          283          0         ST     98   \n",
       "3   48   F           ASY        138          214          0     Normal    108   \n",
       "4   54   M           NAP        150          195          0     Normal    122   \n",
       "\n",
       "  ExerciseAngina  Oldpeak ST_Slope  HeartDisease  \n",
       "0              N      0.0       Up             0  \n",
       "1              N      1.0     Flat             1  \n",
       "2              N      0.0       Up             0  \n",
       "3              Y      1.5     Flat             1  \n",
       "4              N      0.0       Up             0  "
      ]
     },
     "execution_count": 3,
     "metadata": {},
     "output_type": "execute_result"
    }
   ],
   "source": [
    "data.head()"
   ]
  },
  {
   "cell_type": "markdown",
   "id": "3d1dc0b2",
   "metadata": {},
   "source": [
    "### Descriptive Analytics"
   ]
  },
  {
   "cell_type": "code",
   "execution_count": 4,
   "id": "fc2c27a7",
   "metadata": {},
   "outputs": [
    {
     "data": {
      "text/html": [
       "<div>\n",
       "<style scoped>\n",
       "    .dataframe tbody tr th:only-of-type {\n",
       "        vertical-align: middle;\n",
       "    }\n",
       "\n",
       "    .dataframe tbody tr th {\n",
       "        vertical-align: top;\n",
       "    }\n",
       "\n",
       "    .dataframe thead th {\n",
       "        text-align: right;\n",
       "    }\n",
       "</style>\n",
       "<table border=\"1\" class=\"dataframe\">\n",
       "  <thead>\n",
       "    <tr style=\"text-align: right;\">\n",
       "      <th></th>\n",
       "      <th>Age</th>\n",
       "      <th>RestingBP</th>\n",
       "      <th>Cholesterol</th>\n",
       "      <th>FastingBS</th>\n",
       "      <th>MaxHR</th>\n",
       "      <th>Oldpeak</th>\n",
       "      <th>HeartDisease</th>\n",
       "    </tr>\n",
       "  </thead>\n",
       "  <tbody>\n",
       "    <tr>\n",
       "      <th>count</th>\n",
       "      <td>918.000000</td>\n",
       "      <td>918.000000</td>\n",
       "      <td>918.000000</td>\n",
       "      <td>918.000000</td>\n",
       "      <td>918.000000</td>\n",
       "      <td>918.000000</td>\n",
       "      <td>918.000000</td>\n",
       "    </tr>\n",
       "    <tr>\n",
       "      <th>mean</th>\n",
       "      <td>53.510893</td>\n",
       "      <td>132.396514</td>\n",
       "      <td>198.799564</td>\n",
       "      <td>0.233115</td>\n",
       "      <td>136.809368</td>\n",
       "      <td>0.887364</td>\n",
       "      <td>0.553377</td>\n",
       "    </tr>\n",
       "    <tr>\n",
       "      <th>std</th>\n",
       "      <td>9.432617</td>\n",
       "      <td>18.514154</td>\n",
       "      <td>109.384145</td>\n",
       "      <td>0.423046</td>\n",
       "      <td>25.460334</td>\n",
       "      <td>1.066570</td>\n",
       "      <td>0.497414</td>\n",
       "    </tr>\n",
       "    <tr>\n",
       "      <th>min</th>\n",
       "      <td>28.000000</td>\n",
       "      <td>0.000000</td>\n",
       "      <td>0.000000</td>\n",
       "      <td>0.000000</td>\n",
       "      <td>60.000000</td>\n",
       "      <td>-2.600000</td>\n",
       "      <td>0.000000</td>\n",
       "    </tr>\n",
       "    <tr>\n",
       "      <th>25%</th>\n",
       "      <td>47.000000</td>\n",
       "      <td>120.000000</td>\n",
       "      <td>173.250000</td>\n",
       "      <td>0.000000</td>\n",
       "      <td>120.000000</td>\n",
       "      <td>0.000000</td>\n",
       "      <td>0.000000</td>\n",
       "    </tr>\n",
       "    <tr>\n",
       "      <th>50%</th>\n",
       "      <td>54.000000</td>\n",
       "      <td>130.000000</td>\n",
       "      <td>223.000000</td>\n",
       "      <td>0.000000</td>\n",
       "      <td>138.000000</td>\n",
       "      <td>0.600000</td>\n",
       "      <td>1.000000</td>\n",
       "    </tr>\n",
       "    <tr>\n",
       "      <th>75%</th>\n",
       "      <td>60.000000</td>\n",
       "      <td>140.000000</td>\n",
       "      <td>267.000000</td>\n",
       "      <td>0.000000</td>\n",
       "      <td>156.000000</td>\n",
       "      <td>1.500000</td>\n",
       "      <td>1.000000</td>\n",
       "    </tr>\n",
       "    <tr>\n",
       "      <th>max</th>\n",
       "      <td>77.000000</td>\n",
       "      <td>200.000000</td>\n",
       "      <td>603.000000</td>\n",
       "      <td>1.000000</td>\n",
       "      <td>202.000000</td>\n",
       "      <td>6.200000</td>\n",
       "      <td>1.000000</td>\n",
       "    </tr>\n",
       "  </tbody>\n",
       "</table>\n",
       "</div>"
      ],
      "text/plain": [
       "              Age   RestingBP  Cholesterol   FastingBS       MaxHR  \\\n",
       "count  918.000000  918.000000   918.000000  918.000000  918.000000   \n",
       "mean    53.510893  132.396514   198.799564    0.233115  136.809368   \n",
       "std      9.432617   18.514154   109.384145    0.423046   25.460334   \n",
       "min     28.000000    0.000000     0.000000    0.000000   60.000000   \n",
       "25%     47.000000  120.000000   173.250000    0.000000  120.000000   \n",
       "50%     54.000000  130.000000   223.000000    0.000000  138.000000   \n",
       "75%     60.000000  140.000000   267.000000    0.000000  156.000000   \n",
       "max     77.000000  200.000000   603.000000    1.000000  202.000000   \n",
       "\n",
       "          Oldpeak  HeartDisease  \n",
       "count  918.000000    918.000000  \n",
       "mean     0.887364      0.553377  \n",
       "std      1.066570      0.497414  \n",
       "min     -2.600000      0.000000  \n",
       "25%      0.000000      0.000000  \n",
       "50%      0.600000      1.000000  \n",
       "75%      1.500000      1.000000  \n",
       "max      6.200000      1.000000  "
      ]
     },
     "execution_count": 4,
     "metadata": {},
     "output_type": "execute_result"
    }
   ],
   "source": [
    "data.describe()"
   ]
  },
  {
   "cell_type": "code",
   "execution_count": 5,
   "id": "218cf3ae",
   "metadata": {},
   "outputs": [
    {
     "data": {
      "text/plain": [
       "(918, 12)"
      ]
     },
     "execution_count": 5,
     "metadata": {},
     "output_type": "execute_result"
    }
   ],
   "source": [
    "data.shape"
   ]
  },
  {
   "cell_type": "code",
   "execution_count": 6,
   "id": "45854fe3",
   "metadata": {},
   "outputs": [
    {
     "data": {
      "text/plain": [
       "Age                 int64\n",
       "Sex                object\n",
       "ChestPainType      object\n",
       "RestingBP           int64\n",
       "Cholesterol         int64\n",
       "FastingBS           int64\n",
       "RestingECG         object\n",
       "MaxHR               int64\n",
       "ExerciseAngina     object\n",
       "Oldpeak           float64\n",
       "ST_Slope           object\n",
       "HeartDisease        int64\n",
       "dtype: object"
      ]
     },
     "execution_count": 6,
     "metadata": {},
     "output_type": "execute_result"
    }
   ],
   "source": [
    "data.dtypes"
   ]
  },
  {
   "cell_type": "markdown",
   "id": "f8544bc8-6172-4a79-816c-6fb4d8c0ed41",
   "metadata": {},
   "source": [
    "#### Univariate analisis"
   ]
  },
  {
   "cell_type": "markdown",
   "id": "de5db5a6-ac5d-4a3a-9ade-88e0d1750435",
   "metadata": {},
   "source": [
    "###### Numerical Features"
   ]
  },
  {
   "cell_type": "code",
   "execution_count": 7,
   "id": "27305b9f-70b1-4069-a799-dba97c6b1e2c",
   "metadata": {},
   "outputs": [],
   "source": [
    "numerical_features = ['Age', 'RestingBP', 'Cholesterol', 'MaxHR', 'Oldpeak']\n",
    "categorical_features = ['Sex', 'ChestPainType', 'RestingECG', 'ExerciseAngina', 'FastingBS', 'ST_Slope', 'HeartDisease']"
   ]
  },
  {
   "cell_type": "code",
   "execution_count": 8,
   "id": "bdbbe2ae-c80d-485d-a108-d654e6f3f181",
   "metadata": {},
   "outputs": [],
   "source": [
    "def plot_variable_distribution(variable_name): \n",
    "    plt.figure(figsize=(20, 10))\n",
    "    sns.histplot(data=data, x=f\"{variable_name}\")\n",
    "    plt.xlabel(f\"{variable_name}\")\n",
    "    plt.savefig(f\"../results/EDA/{variable_name}_distribution.png\")\n",
    "    plt.show()\n",
    "    plt.close()"
   ]
  },
  {
   "cell_type": "code",
   "execution_count": 9,
   "id": "226f5232-d62c-41e7-876c-2217727ec9f7",
   "metadata": {},
   "outputs": [
    {
     "data": {
      "image/png": "[encoded data removed]",
      "text/plain": [
       "<Figure size 1440x720 with 1 Axes>"
      ]
     },
     "metadata": {
      "needs_background": "light"
     },
     "output_type": "display_data"
    },
    {
     "name": "stdout",
     "output_type": "stream",
     "text": [
      "excess kurtosis of normal distribution (should be 0): -0.3905684960842244\n",
      "skewness of normal distribution (should be 0): -0.19561273124487544\n"
     ]
    },
    {
     "data": {
      "image/png": "[encoded data removed]",
      "text/plain": [
       "<Figure size 1440x720 with 1 Axes>"
      ]
     },
     "metadata": {
      "needs_background": "light"
     },
     "output_type": "display_data"
    },
    {
     "name": "stdout",
     "output_type": "stream",
     "text": [
      "excess kurtosis of normal distribution (should be 0): 3.2469319615478724\n",
      "skewness of normal distribution (should be 0): 0.17954532149156327\n"
     ]
    },
    {
     "data": {
      "image/png": "[encoded data removed]",
      "text/plain": [
       "<Figure size 1440x720 with 1 Axes>"
      ]
     },
     "metadata": {
      "needs_background": "light"
     },
     "output_type": "display_data"
    },
    {
     "name": "stdout",
     "output_type": "stream",
     "text": [
      "excess kurtosis of normal distribution (should be 0): 0.11103677697582448\n",
      "skewness of normal distribution (should be 0): -0.6090891046626045\n"
     ]
    },
    {
     "data": {
      "image/png": "[encoded data removed]",
      "text/plain": [
       "<Figure size 1440x720 with 1 Axes>"
      ]
     },
     "metadata": {
      "needs_background": "light"
     },
     "output_type": "display_data"
    },
    {
     "name": "stdout",
     "output_type": "stream",
     "text": [
      "excess kurtosis of normal distribution (should be 0): -0.4523389391469048\n",
      "skewness of normal distribution (should be 0): -0.14412342991429325\n"
     ]
    },
    {
     "data": {
      "image/png": "[encoded data removed]",
      "text/plain": [
       "<Figure size 1440x720 with 1 Axes>"
      ]
     },
     "metadata": {
      "needs_background": "light"
     },
     "output_type": "display_data"
    },
    {
     "name": "stdout",
     "output_type": "stream",
     "text": [
      "excess kurtosis of normal distribution (should be 0): 1.189992199237265\n",
      "skewness of normal distribution (should be 0): 1.0211999031135828\n"
     ]
    }
   ],
   "source": [
    "for numerical_feature in numerical_features:\n",
    "    plot_variable_distribution(numerical_feature)\n",
    "    print( 'excess kurtosis of normal distribution (should be 0): {}'.format(kurtosis(data[f'{numerical_feature}'])))\n",
    "    print( 'skewness of normal distribution (should be 0): {}'.format(skew(data[f'{numerical_feature}'])))"
   ]
  },
  {
   "cell_type": "markdown",
   "id": "c6db64f9-2f8e-49b5-8826-485099ea753b",
   "metadata": {
    "tags": []
   },
   "source": [
    "###### Categorical Features"
   ]
  },
  {
   "cell_type": "code",
   "execution_count": 10,
   "id": "9a4309c3-1988-4ce2-b9c5-564ec894bf7a",
   "metadata": {},
   "outputs": [],
   "source": [
    "def plot_categorical_feature_distribution(variable_name):\n",
    "    plt.figure(figsize=(20, 10))\n",
    "    ax = sns.countplot(x=f\"{variable_name}\", data=data)\n",
    "    for p in ax.patches:\n",
    "        ax.annotate(f'\\n{p.get_height()}', (p.get_x()+0.2, p.get_height()), ha='center', va='top', color='white', size=18)\n",
    "    plt.xlabel(f\"{column}\")\n",
    "    plt.savefig(f\"../results/EDA/{variable_name}_distribution.png\")\n",
    "    plt.show()\n",
    "    plt.close()"
   ]
  },
  {
   "cell_type": "code",
   "execution_count": 11,
   "id": "7fef4576-5be8-45ce-83f5-50081b3ff967",
   "metadata": {
    "tags": []
   },
   "outputs": [
    {
     "data": {
      "image/png": "[encoded data removed]",
      "text/plain": [
       "<Figure size 1440x720 with 1 Axes>"
      ]
     },
     "metadata": {
      "needs_background": "light"
     },
     "output_type": "display_data"
    },
    {
     "data": {
      "image/png": "[encoded data removed]",
      "text/plain": [
       "<Figure size 1440x720 with 1 Axes>"
      ]
     },
     "metadata": {
      "needs_background": "light"
     },
     "output_type": "display_data"
    },
    {
     "data": {
      "image/png": "[encoded data removed]",
      "text/plain": [
       "<Figure size 1440x720 with 1 Axes>"
      ]
     },
     "metadata": {
      "needs_background": "light"
     },
     "output_type": "display_data"
    },
    {
     "data": {
      "image/png": "[encoded data removed]",
      "text/plain": [
       "<Figure size 1440x720 with 1 Axes>"
      ]
     },
     "metadata": {
      "needs_background": "light"
     },
     "output_type": "display_data"
    },
    {
     "data": {
      "image/png": "[encoded data removed]",
      "text/plain": [
       "<Figure size 1440x720 with 1 Axes>"
      ]
     },
     "metadata": {
      "needs_background": "light"
     },
     "output_type": "display_data"
    },
    {
     "data": {
      "image/png": "[encoded data removed]",
      "text/plain": [
       "<Figure size 1440x720 with 1 Axes>"
      ]
     },
     "metadata": {
      "needs_background": "light"
     },
     "output_type": "display_data"
    },
    {
     "data": {
      "image/png": "[encoded data removed]",
      "text/plain": [
       "<Figure size 1440x720 with 1 Axes>"
      ]
     },
     "metadata": {
      "needs_background": "light"
     },
     "output_type": "display_data"
    }
   ],
   "source": [
    "for column in categorical_features: \n",
    "    plot_categorical_feature_distribution(column)"
   ]
  },
  {
   "cell_type": "markdown",
   "id": "1c194136-8cc6-4aee-ac21-cd91435c12a6",
   "metadata": {},
   "source": [
    "We can conclude that the dataset is not imbalaced, since there is no minorty class and we have a almost 50 / 50 ratio between those how suffered a heart failure and those that no"
   ]
  },
  {
   "cell_type": "code",
   "execution_count": 12,
   "id": "5897352c-cc20-475b-8c37-cfd69f6c550d",
   "metadata": {
    "tags": []
   },
   "outputs": [],
   "source": [
    "symetric_distribution_features = ['Age', 'Cholesterol', 'MaxHR']"
   ]
  },
  {
   "cell_type": "code",
   "execution_count": 13,
   "id": "9321d105-3bae-4ecf-b858-96c2dd46a4ba",
   "metadata": {},
   "outputs": [],
   "source": [
    "asymetric_distribution_features = ['RestingBP', 'Oldpeak']"
   ]
  },
  {
   "cell_type": "code",
   "execution_count": 14,
   "id": "edd535bb-6b6f-4318-bc39-e07c5c4d97c3",
   "metadata": {},
   "outputs": [],
   "source": [
    "# Dataset 1 is the raw dataset, variables will not have any modification in here\n",
    "dataset_1 = data.copy()"
   ]
  },
  {
   "cell_type": "markdown",
   "id": "fd6d82d9-b053-4041-bee5-0a2bed68a96f",
   "metadata": {},
   "source": [
    "### Missing Values"
   ]
  },
  {
   "cell_type": "code",
   "execution_count": 15,
   "id": "d2b7e528-a11e-4e4c-8de6-91b532c58134",
   "metadata": {},
   "outputs": [
    {
     "data": {
      "text/plain": [
       "<AxesSubplot:>"
      ]
     },
     "execution_count": 15,
     "metadata": {},
     "output_type": "execute_result"
    },
    {
     "data": {
      "image/png": "[encoded data removed]",
      "text/plain": [
       "<Figure size 1800x720 with 2 Axes>"
      ]
     },
     "metadata": {
      "needs_background": "light"
     },
     "output_type": "display_data"
    }
   ],
   "source": [
    "msno.matrix(data)"
   ]
  },
  {
   "cell_type": "code",
   "execution_count": 16,
   "id": "30161740-5958-4f24-ac9a-6758fcbafab7",
   "metadata": {},
   "outputs": [
    {
     "data": {
      "text/plain": [
       "<AxesSubplot:>"
      ]
     },
     "execution_count": 16,
     "metadata": {},
     "output_type": "execute_result"
    },
    {
     "data": {
      "image/png": "[encoded data removed]",
      "text/plain": [
       "<Figure size 1800x720 with 3 Axes>"
      ]
     },
     "metadata": {
      "needs_background": "light"
     },
     "output_type": "display_data"
    }
   ],
   "source": [
    "msno.bar(data)"
   ]
  },
  {
   "cell_type": "markdown",
   "id": "07ae5c50-5056-46e2-acd4-495e33d7d5d7",
   "metadata": {},
   "source": [
    "There are no missing values in this dataset. But there are some anomalies in the cholesterol feature."
   ]
  },
  {
   "cell_type": "code",
   "execution_count": 17,
   "id": "cec4c3d6-cbec-49f6-b517-88e8fd1ee645",
   "metadata": {},
   "outputs": [
    {
     "name": "stdout",
     "output_type": "stream",
     "text": [
      "Count of zeros in column: Age is 0, 0.0 % of the data \n",
      "Count of zeros in column: Sex is 0, 0.0 % of the data \n",
      "Count of zeros in column: ChestPainType is 0, 0.0 % of the data \n",
      "Count of zeros in column: RestingBP is 1, 0.10893246187363835 % of the data \n",
      "Count of zeros in column: Cholesterol is 172, 18.736383442265794 % of the data \n",
      "Count of zeros in column: FastingBS is 704, 76.68845315904139 % of the data \n",
      "Count of zeros in column: RestingECG is 0, 0.0 % of the data \n",
      "Count of zeros in column: MaxHR is 0, 0.0 % of the data \n",
      "Count of zeros in column: ExerciseAngina is 0, 0.0 % of the data \n",
      "Count of zeros in column: Oldpeak is 368, 40.08714596949891 % of the data \n",
      "Count of zeros in column: ST_Slope is 0, 0.0 % of the data \n",
      "Count of zeros in column: HeartDisease is 410, 44.66230936819172 % of the data \n"
     ]
    }
   ],
   "source": [
    "# Count number of zeros in all columns of Dataframe to detect possible wrong values\n",
    "for column_name in data.columns:\n",
    "    column = data[column_name]\n",
    "    # Get the count of Zeros in column \n",
    "    count = (column == 0).sum()\n",
    "    print(f'Count of zeros in column: {column_name} is {count}, {count/data.shape[0]*100} % of the data ')"
   ]
  },
  {
   "cell_type": "markdown",
   "id": "b634a1d9-910c-40e7-b242-ab2b04e84dde",
   "metadata": {},
   "source": [
    "#### Cholesterol"
   ]
  },
  {
   "cell_type": "code",
   "execution_count": 18,
   "id": "9e0f0d70-9f61-4ebc-b979-338b86258cad",
   "metadata": {},
   "outputs": [
    {
     "name": "stdout",
     "output_type": "stream",
     "text": [
      "There are 172 0´s in Cholesterol\n"
     ]
    }
   ],
   "source": [
    "number_of_zeroes = data['Cholesterol'][data['Cholesterol'] == 0].count()\n",
    "print(f'There are {number_of_zeroes} 0´s in Cholesterol')"
   ]
  },
  {
   "cell_type": "markdown",
   "id": "8d75d768-3846-4e51-ad48-22ef083004e7",
   "metadata": {},
   "source": [
    "#### Resting BP"
   ]
  },
  {
   "cell_type": "code",
   "execution_count": 19,
   "id": "c7ca2cdd-9e43-42e6-b2ea-1cf60daf97e0",
   "metadata": {
    "tags": []
   },
   "outputs": [
    {
     "name": "stdout",
     "output_type": "stream",
     "text": [
      "There are 1 0´s in RestingBP\n"
     ]
    }
   ],
   "source": [
    "number_of_zeroes = data['RestingBP'][data['RestingBP'] == 0].count()\n",
    "print(f'There are {number_of_zeroes} 0´s in RestingBP')"
   ]
  },
  {
   "cell_type": "markdown",
   "id": "7811441c-e2d8-45fb-a9bd-26f17cb063bc",
   "metadata": {},
   "source": [
    "#### Mean Inputation"
   ]
  },
  {
   "cell_type": "code",
   "execution_count": 20,
   "id": "fba3844b-68f6-4886-81cd-7a02c8f28209",
   "metadata": {},
   "outputs": [],
   "source": [
    "dataset_2_1 = data.copy()\n",
    "dataset_2_1['Cholesterol']=dataset_2_1['Cholesterol'].mask(dataset_2_1['Cholesterol']==0).fillna(dataset_2_1['Cholesterol'].mean())\n",
    "dataset_2_1['RestingBP']=dataset_2_1['RestingBP'].mask(dataset_2_1['RestingBP']==0).fillna(dataset_2_1['RestingBP'].mean())"
   ]
  },
  {
   "cell_type": "markdown",
   "id": "3f953e0f-7a56-43a4-895c-96b23f669e14",
   "metadata": {},
   "source": [
    "#### Regression Inputation"
   ]
  },
  {
   "cell_type": "code",
   "execution_count": 21,
   "id": "fbd1b58e-5014-4d08-af94-c83975b2e3bb",
   "metadata": {
    "tags": []
   },
   "outputs": [
    {
     "ename": "ValueError",
     "evalue": "could not convert string to float: 'M'",
     "output_type": "error",
     "traceback": [
      "\u001b[0;31m---------------------------------------------------------------------------\u001b[0m",
      "\u001b[0;31mValueError\u001b[0m                                Traceback (most recent call last)",
      "\u001b[0;32m/var/folders/yf/ngxbgwq57ll6888g8bsv_8wh0000gn/T/ipykernel_6952/1083366354.py\u001b[0m in \u001b[0;36m<module>\u001b[0;34m\u001b[0m\n\u001b[1;32m      3\u001b[0m \u001b[0mdataset_2_2\u001b[0m\u001b[0;34m[\u001b[0m\u001b[0;34m'RestingBP'\u001b[0m\u001b[0;34m]\u001b[0m\u001b[0;34m=\u001b[0m\u001b[0mdataset_2_2\u001b[0m\u001b[0;34m[\u001b[0m\u001b[0;34m'RestingBP'\u001b[0m\u001b[0;34m]\u001b[0m\u001b[0;34m.\u001b[0m\u001b[0mmask\u001b[0m\u001b[0;34m(\u001b[0m\u001b[0mdataset_2_2\u001b[0m\u001b[0;34m[\u001b[0m\u001b[0;34m'RestingBP'\u001b[0m\u001b[0;34m]\u001b[0m\u001b[0;34m==\u001b[0m\u001b[0;36m0\u001b[0m\u001b[0;34m)\u001b[0m\u001b[0;34m\u001b[0m\u001b[0;34m\u001b[0m\u001b[0m\n\u001b[1;32m      4\u001b[0m \u001b[0mimputer\u001b[0m \u001b[0;34m=\u001b[0m \u001b[0mIterativeImputer\u001b[0m\u001b[0;34m(\u001b[0m\u001b[0mrandom_state\u001b[0m\u001b[0;34m=\u001b[0m\u001b[0;36m42\u001b[0m\u001b[0;34m)\u001b[0m\u001b[0;34m\u001b[0m\u001b[0;34m\u001b[0m\u001b[0m\n\u001b[0;32m----> 5\u001b[0;31m \u001b[0mimputed\u001b[0m \u001b[0;34m=\u001b[0m \u001b[0mimputer\u001b[0m\u001b[0;34m.\u001b[0m\u001b[0mfit_transform\u001b[0m\u001b[0;34m(\u001b[0m\u001b[0mdataset_2_2\u001b[0m\u001b[0;34m)\u001b[0m\u001b[0;34m\u001b[0m\u001b[0;34m\u001b[0m\u001b[0m\n\u001b[0m\u001b[1;32m      6\u001b[0m \u001b[0mdataset_2_2\u001b[0m \u001b[0;34m=\u001b[0m \u001b[0mpd\u001b[0m\u001b[0;34m.\u001b[0m\u001b[0mDataFrame\u001b[0m\u001b[0;34m(\u001b[0m\u001b[0mimputed\u001b[0m\u001b[0;34m,\u001b[0m \u001b[0mcolumns\u001b[0m\u001b[0;34m=\u001b[0m\u001b[0mdataset_2_2\u001b[0m\u001b[0;34m.\u001b[0m\u001b[0mcolumns\u001b[0m\u001b[0;34m)\u001b[0m\u001b[0;34m\u001b[0m\u001b[0;34m\u001b[0m\u001b[0m\n",
      "\u001b[0;32m~/Documents/heart-failure/venv/lib/python3.7/site-packages/sklearn/impute/_iterative.py\u001b[0m in \u001b[0;36mfit_transform\u001b[0;34m(self, X, y)\u001b[0m\n\u001b[1;32m    617\u001b[0m \u001b[0;34m\u001b[0m\u001b[0m\n\u001b[1;32m    618\u001b[0m         X, Xt, mask_missing_values, complete_mask = self._initial_imputation(\n\u001b[0;32m--> 619\u001b[0;31m             \u001b[0mX\u001b[0m\u001b[0;34m,\u001b[0m \u001b[0min_fit\u001b[0m\u001b[0;34m=\u001b[0m\u001b[0;32mTrue\u001b[0m\u001b[0;34m\u001b[0m\u001b[0;34m\u001b[0m\u001b[0m\n\u001b[0m\u001b[1;32m    620\u001b[0m         )\n\u001b[1;32m    621\u001b[0m \u001b[0;34m\u001b[0m\u001b[0m\n",
      "\u001b[0;32m~/Documents/heart-failure/venv/lib/python3.7/site-packages/sklearn/impute/_iterative.py\u001b[0m in \u001b[0;36m_initial_imputation\u001b[0;34m(self, X, in_fit)\u001b[0m\n\u001b[1;32m    517\u001b[0m             \u001b[0morder\u001b[0m\u001b[0;34m=\u001b[0m\u001b[0;34m\"F\"\u001b[0m\u001b[0;34m,\u001b[0m\u001b[0;34m\u001b[0m\u001b[0;34m\u001b[0m\u001b[0m\n\u001b[1;32m    518\u001b[0m             \u001b[0mreset\u001b[0m\u001b[0;34m=\u001b[0m\u001b[0min_fit\u001b[0m\u001b[0;34m,\u001b[0m\u001b[0;34m\u001b[0m\u001b[0;34m\u001b[0m\u001b[0m\n\u001b[0;32m--> 519\u001b[0;31m             \u001b[0mforce_all_finite\u001b[0m\u001b[0;34m=\u001b[0m\u001b[0mforce_all_finite\u001b[0m\u001b[0;34m,\u001b[0m\u001b[0;34m\u001b[0m\u001b[0;34m\u001b[0m\u001b[0m\n\u001b[0m\u001b[1;32m    520\u001b[0m         )\n\u001b[1;32m    521\u001b[0m         \u001b[0m_check_inputs_dtype\u001b[0m\u001b[0;34m(\u001b[0m\u001b[0mX\u001b[0m\u001b[0;34m,\u001b[0m \u001b[0mself\u001b[0m\u001b[0;34m.\u001b[0m\u001b[0mmissing_values\u001b[0m\u001b[0;34m)\u001b[0m\u001b[0;34m\u001b[0m\u001b[0;34m\u001b[0m\u001b[0m\n",
      "\u001b[0;32m~/Documents/heart-failure/venv/lib/python3.7/site-packages/sklearn/base.py\u001b[0m in \u001b[0;36m_validate_data\u001b[0;34m(self, X, y, reset, validate_separately, **check_params)\u001b[0m\n\u001b[1;32m    564\u001b[0m             \u001b[0;32mraise\u001b[0m \u001b[0mValueError\u001b[0m\u001b[0;34m(\u001b[0m\u001b[0;34m\"Validation should be done on X, y or both.\"\u001b[0m\u001b[0;34m)\u001b[0m\u001b[0;34m\u001b[0m\u001b[0;34m\u001b[0m\u001b[0m\n\u001b[1;32m    565\u001b[0m         \u001b[0;32melif\u001b[0m \u001b[0;32mnot\u001b[0m \u001b[0mno_val_X\u001b[0m \u001b[0;32mand\u001b[0m \u001b[0mno_val_y\u001b[0m\u001b[0;34m:\u001b[0m\u001b[0;34m\u001b[0m\u001b[0;34m\u001b[0m\u001b[0m\n\u001b[0;32m--> 566\u001b[0;31m             \u001b[0mX\u001b[0m \u001b[0;34m=\u001b[0m \u001b[0mcheck_array\u001b[0m\u001b[0;34m(\u001b[0m\u001b[0mX\u001b[0m\u001b[0;34m,\u001b[0m \u001b[0;34m**\u001b[0m\u001b[0mcheck_params\u001b[0m\u001b[0;34m)\u001b[0m\u001b[0;34m\u001b[0m\u001b[0;34m\u001b[0m\u001b[0m\n\u001b[0m\u001b[1;32m    567\u001b[0m             \u001b[0mout\u001b[0m \u001b[0;34m=\u001b[0m \u001b[0mX\u001b[0m\u001b[0;34m\u001b[0m\u001b[0;34m\u001b[0m\u001b[0m\n\u001b[1;32m    568\u001b[0m         \u001b[0;32melif\u001b[0m \u001b[0mno_val_X\u001b[0m \u001b[0;32mand\u001b[0m \u001b[0;32mnot\u001b[0m \u001b[0mno_val_y\u001b[0m\u001b[0;34m:\u001b[0m\u001b[0;34m\u001b[0m\u001b[0;34m\u001b[0m\u001b[0m\n",
      "\u001b[0;32m~/Documents/heart-failure/venv/lib/python3.7/site-packages/sklearn/utils/validation.py\u001b[0m in \u001b[0;36mcheck_array\u001b[0;34m(array, accept_sparse, accept_large_sparse, dtype, order, copy, force_all_finite, ensure_2d, allow_nd, ensure_min_samples, ensure_min_features, estimator)\u001b[0m\n\u001b[1;32m    744\u001b[0m                     \u001b[0marray\u001b[0m \u001b[0;34m=\u001b[0m \u001b[0marray\u001b[0m\u001b[0;34m.\u001b[0m\u001b[0mastype\u001b[0m\u001b[0;34m(\u001b[0m\u001b[0mdtype\u001b[0m\u001b[0;34m,\u001b[0m \u001b[0mcasting\u001b[0m\u001b[0;34m=\u001b[0m\u001b[0;34m\"unsafe\"\u001b[0m\u001b[0;34m,\u001b[0m \u001b[0mcopy\u001b[0m\u001b[0;34m=\u001b[0m\u001b[0;32mFalse\u001b[0m\u001b[0;34m)\u001b[0m\u001b[0;34m\u001b[0m\u001b[0;34m\u001b[0m\u001b[0m\n\u001b[1;32m    745\u001b[0m                 \u001b[0;32melse\u001b[0m\u001b[0;34m:\u001b[0m\u001b[0;34m\u001b[0m\u001b[0;34m\u001b[0m\u001b[0m\n\u001b[0;32m--> 746\u001b[0;31m                     \u001b[0marray\u001b[0m \u001b[0;34m=\u001b[0m \u001b[0mnp\u001b[0m\u001b[0;34m.\u001b[0m\u001b[0masarray\u001b[0m\u001b[0;34m(\u001b[0m\u001b[0marray\u001b[0m\u001b[0;34m,\u001b[0m \u001b[0morder\u001b[0m\u001b[0;34m=\u001b[0m\u001b[0morder\u001b[0m\u001b[0;34m,\u001b[0m \u001b[0mdtype\u001b[0m\u001b[0;34m=\u001b[0m\u001b[0mdtype\u001b[0m\u001b[0;34m)\u001b[0m\u001b[0;34m\u001b[0m\u001b[0;34m\u001b[0m\u001b[0m\n\u001b[0m\u001b[1;32m    747\u001b[0m             \u001b[0;32mexcept\u001b[0m \u001b[0mComplexWarning\u001b[0m \u001b[0;32mas\u001b[0m \u001b[0mcomplex_warning\u001b[0m\u001b[0;34m:\u001b[0m\u001b[0;34m\u001b[0m\u001b[0;34m\u001b[0m\u001b[0m\n\u001b[1;32m    748\u001b[0m                 raise ValueError(\n",
      "\u001b[0;32m~/Documents/heart-failure/venv/lib/python3.7/site-packages/pandas/core/generic.py\u001b[0m in \u001b[0;36m__array__\u001b[0;34m(self, dtype)\u001b[0m\n\u001b[1;32m   1991\u001b[0m \u001b[0;34m\u001b[0m\u001b[0m\n\u001b[1;32m   1992\u001b[0m     \u001b[0;32mdef\u001b[0m \u001b[0m__array__\u001b[0m\u001b[0;34m(\u001b[0m\u001b[0mself\u001b[0m\u001b[0;34m,\u001b[0m \u001b[0mdtype\u001b[0m\u001b[0;34m:\u001b[0m \u001b[0mNpDtype\u001b[0m \u001b[0;34m|\u001b[0m \u001b[0;32mNone\u001b[0m \u001b[0;34m=\u001b[0m \u001b[0;32mNone\u001b[0m\u001b[0;34m)\u001b[0m \u001b[0;34m->\u001b[0m \u001b[0mnp\u001b[0m\u001b[0;34m.\u001b[0m\u001b[0mndarray\u001b[0m\u001b[0;34m:\u001b[0m\u001b[0;34m\u001b[0m\u001b[0;34m\u001b[0m\u001b[0m\n\u001b[0;32m-> 1993\u001b[0;31m         \u001b[0;32mreturn\u001b[0m \u001b[0mnp\u001b[0m\u001b[0;34m.\u001b[0m\u001b[0masarray\u001b[0m\u001b[0;34m(\u001b[0m\u001b[0mself\u001b[0m\u001b[0;34m.\u001b[0m\u001b[0m_values\u001b[0m\u001b[0;34m,\u001b[0m \u001b[0mdtype\u001b[0m\u001b[0;34m=\u001b[0m\u001b[0mdtype\u001b[0m\u001b[0;34m)\u001b[0m\u001b[0;34m\u001b[0m\u001b[0;34m\u001b[0m\u001b[0m\n\u001b[0m\u001b[1;32m   1994\u001b[0m \u001b[0;34m\u001b[0m\u001b[0m\n\u001b[1;32m   1995\u001b[0m     def __array_wrap__(\n",
      "\u001b[0;31mValueError\u001b[0m: could not convert string to float: 'M'"
     ]
    }
   ],
   "source": [
    "dataset_2_2 = data.copy()\n",
    "dataset_2_2['Cholesterol']=dataset_2_2['Cholesterol'].mask(dataset_2_2['Cholesterol']==0)\n",
    "dataset_2_2['RestingBP']=dataset_2_2['RestingBP'].mask(dataset_2_2['RestingBP']==0)\n",
    "imputer = IterativeImputer(random_state=42)\n",
    "imputed = imputer.fit_transform(dataset_2_2)\n",
    "dataset_2_2 = pd.DataFrame(imputed, columns=dataset_2_2.columns)"
   ]
  },
  {
   "cell_type": "markdown",
   "id": "a2715a6c",
   "metadata": {},
   "source": [
    "### Outlier Detection"
   ]
  },
  {
   "cell_type": "code",
   "execution_count": null,
   "id": "c6739ae0-1d13-4cef-846f-944d8fe3fe7d",
   "metadata": {},
   "outputs": [],
   "source": [
    "def mean_3_std(variable_name):\n",
    "    data_mean, data_std = np.mean(data[f'{variable_name}']), np.std(data[f'{variable_name}'])\n",
    "    cut_off = data_std * 3\n",
    "    lower, upper = data_mean - cut_off, data_mean + cut_off\n",
    "    outliers_lower = [x for x in data[f'{variable_name}'] if x < lower]\n",
    "    outliers_upper = [x for x in data[f'{variable_name}'] if x > upper]\n",
    "    print(f'Variable {variable_name}: Lower outliers {outliers_lower}, Upper outliers {outliers_upper}, boundaries {lower}, {upper}')"
   ]
  },
  {
   "cell_type": "code",
   "execution_count": null,
   "id": "0869ba36-c173-4fae-b564-50d072737873",
   "metadata": {
    "tags": []
   },
   "outputs": [],
   "source": [
    "def plot_intercuartile_range(variable_name):\n",
    "    plt.figure(figsize=(20, 10))\n",
    "    sns.boxplot(data=data, x=f\"{variable_name}\")\n",
    "    plt.xlabel(f\"{variable_name}\")\n",
    "    plt.savefig(f\"../results/EDA/{variable_name}_outliers.png\")\n",
    "    plt.show()\n",
    "    plt.close()"
   ]
  },
  {
   "cell_type": "code",
   "execution_count": null,
   "id": "901ca649-0e43-4a8f-814e-0b227947ee75",
   "metadata": {},
   "outputs": [],
   "source": [
    "for symetric_distribution_feature in symetric_distribution_features:\n",
    "    mean_3_std(symetric_distribution_feature)"
   ]
  },
  {
   "cell_type": "code",
   "execution_count": null,
   "id": "a3dfc8d7-d881-4bd6-aff3-241fe5fa9725",
   "metadata": {},
   "outputs": [],
   "source": [
    "def iqr(variable_name):\n",
    "    q75, q25 = np.percentile(data[f'{variable_name}'], [75 ,25])\n",
    "    iqr = q75 - q25\n",
    "    lower = q25 - iqr*1.5\n",
    "    upper = q75 + iqr*1.5\n",
    "    outliers_lower = [x for x in data[f'{variable_name}'] if x < lower]\n",
    "    outliers_upper = [x for x in data[f'{variable_name}'] if x > upper]\n",
    "    print(f'Variable {variable_name}: Lower outliers {outliers_lower}, {len(outliers_lower)}, Upper outliers {outliers_upper}, {len(outliers_upper)}, boundaries {lower}, {upper}')"
   ]
  },
  {
   "cell_type": "code",
   "execution_count": null,
   "id": "211f982d-c1f2-4117-ab90-0342dfcc889b",
   "metadata": {},
   "outputs": [],
   "source": [
    "for asymetric_distribution_feature in asymetric_distribution_features:\n",
    "    iqr(asymetric_distribution_feature)"
   ]
  },
  {
   "cell_type": "code",
   "execution_count": null,
   "id": "971c33ac-4b08-4bc9-a278-aeee99819045",
   "metadata": {
    "tags": []
   },
   "outputs": [],
   "source": [
    "for numerical_feature in numerical_features:\n",
    "    plot_intercuartile_range(numerical_feature)"
   ]
  },
  {
   "cell_type": "code",
   "execution_count": null,
   "id": "cbe50e91-858d-4ed2-a1d1-79478287cd35",
   "metadata": {},
   "outputs": [],
   "source": []
  },
  {
   "cell_type": "markdown",
   "id": "b741ee07-33b1-45a9-aef9-3f0ab48705c3",
   "metadata": {},
   "source": [
    "### Multivariate Analysis"
   ]
  },
  {
   "cell_type": "markdown",
   "id": "08300d77-cf5a-4556-a82f-4bb18e324a45",
   "metadata": {},
   "source": [
    "The target column in this case is very clear, HeartDisease. We already know that it is not balanced, but know we will try to detect any pattern. "
   ]
  },
  {
   "cell_type": "markdown",
   "id": "1c9a9f4d-0cd4-4501-9958-964449a4e70a",
   "metadata": {},
   "source": [
    "#### Numerical features: Plots"
   ]
  },
  {
   "cell_type": "code",
   "execution_count": null,
   "id": "24b22cc7-80c2-4314-8bbb-f49d6aa002c1",
   "metadata": {},
   "outputs": [],
   "source": [
    "def distribution_acording_to_target_value(variable_name):\n",
    "    plt.figure(figsize=(20, 10))\n",
    "    plt.title(f\"Distribution of {variable_name}\")\n",
    "    ax = sns.violinplot(x=\"HeartDisease\", y=f\"{variable_name}\",\n",
    "                    data=data, palette=\"Set2\", split=True,\n",
    "                    scale=\"count\")\n",
    "    plt.xlabel(f\"{variable_name}\")\n",
    "    plt.savefig(f\"../results/EDA/violin_{variable_name}.png\")\n",
    "    plt.show()\n",
    "    plt.close()\n",
    "    \n",
    "    plt.figure(figsize=(20, 10))\n",
    "    ax = sns.boxplot(x=\"HeartDisease\", y=f\"{variable_name}\", data=data, palette=\"Set2\")\n",
    "    plt.xlabel(f\"{variable_name}\")\n",
    "    plt.savefig(f\"../results/EDA/distribution_{variable_name}_target.png\")\n",
    "    plt.show()\n",
    "    plt.close()"
   ]
  },
  {
   "cell_type": "code",
   "execution_count": null,
   "id": "8b3c1e3a-5429-4b3c-bf29-f2645a01ca51",
   "metadata": {
    "tags": []
   },
   "outputs": [],
   "source": [
    "for numerical_feature in numerical_features: \n",
    "    distribution_acording_to_target_value(numerical_feature)\n",
    "    "
   ]
  },
  {
   "cell_type": "markdown",
   "id": "be90645e-4ffb-4c9d-8528-09a48a9fb7e0",
   "metadata": {},
   "source": [
    "#### Categorical features: Plots"
   ]
  },
  {
   "cell_type": "code",
   "execution_count": null,
   "id": "85d7532c-9e8f-4eba-8671-1679505765cd",
   "metadata": {
    "tags": []
   },
   "outputs": [],
   "source": [
    "def categorical_distribution_acording_to_target_value(variable_name):\n",
    "    plt.figure(figsize=(20, 10))\n",
    "    plt.title(f\"Distribution of {variable_name}\")\n",
    "    ax = sns.countplot(x=f\"{variable_name}\", hue=\"HeartDisease\", data=data)\n",
    "    for p in ax.patches:\n",
    "        ax.annotate(f'\\n{p.get_height()}', (p.get_x()+0.2, p.get_height()), ha='center', va='top', color='white', size=14)\n",
    "    plt.xlabel(f\"{variable_name}\")\n",
    "    plt.savefig(f\"../results/EDA/distribution_{variable_name}_targetb.png\")\n",
    "    plt.show()\n",
    "    plt.close()"
   ]
  },
  {
   "cell_type": "code",
   "execution_count": null,
   "id": "25b9ec4b-9956-4649-b074-83ad43cf3774",
   "metadata": {
    "tags": []
   },
   "outputs": [],
   "source": [
    "for categorical_feature in categorical_features[:-1]: \n",
    "    categorical_distribution_acording_to_target_value(categorical_feature)"
   ]
  },
  {
   "cell_type": "markdown",
   "id": "f4f1045f-95cd-4f3e-99ce-229624f8f7ab",
   "metadata": {
    "tags": []
   },
   "source": [
    "#### ANOVA analysis"
   ]
  },
  {
   "cell_type": "markdown",
   "id": "5d6623d4-8347-4329-9140-1bd8910fafe3",
   "metadata": {},
   "source": [
    "The idea of this analysis is to see if there is any connection between the target values and the different numerical variables."
   ]
  },
  {
   "cell_type": "code",
   "execution_count": null,
   "id": "abb8b5b4-f4d8-494e-bda7-4d2ecc28ea35",
   "metadata": {
    "tags": []
   },
   "outputs": [],
   "source": [
    "for numerical_feauture in numerical_features:\n",
    "    none_relevant_features = []\n",
    "    p_value = 0.05\n",
    "    anova_test = stats.f_oneway(data[f'{numerical_feauture}'][data['HeartDisease'] == 0], data[f'{numerical_feauture}'][data['HeartDisease'] == 1])\n",
    "    if anova_test[1] > p_value:\n",
    "        none_relevant_features.append(feature)"
   ]
  },
  {
   "cell_type": "markdown",
   "id": "d311236f-f56a-456e-aee7-4b67b446114a",
   "metadata": {},
   "source": [
    "#### Chi analysis"
   ]
  },
  {
   "cell_type": "markdown",
   "id": "06c4dc5f-e1cf-476e-b05d-9f21d7c02026",
   "metadata": {},
   "source": [
    "The idea of this analysis is to see if there is any connection between the target values and the different categorical variables."
   ]
  },
  {
   "cell_type": "code",
   "execution_count": null,
   "id": "c01255e1-680d-4d56-9043-fed0d4960ba6",
   "metadata": {},
   "outputs": [],
   "source": [
    "p_value = 0.05\n",
    "for categorical_feature in categorical_features:\n",
    "    ct = pd.crosstab(data[f'{categorical_feature}'], data['HeartDisease'], margins=True)\n",
    "    ct = ct.drop(\"All\", axis=1).drop(\"All\", axis=0)\n",
    "    obs = np.array(ct.values)\n",
    "    if stats.chi2_contingency(obs)[0:3][1] > p_value:\n",
    "        none_relevant_features.append(f'{categorical_feature}')\n",
    "print(none_relevant_features) "
   ]
  },
  {
   "cell_type": "markdown",
   "id": "d2154db3-7c67-4ac9-b312-5213c47b1cad",
   "metadata": {},
   "source": [
    "#### Decistion Tree: Feature understanding"
   ]
  },
  {
   "cell_type": "markdown",
   "id": "41c41a98-8fae-4c44-8448-1d0dffd9b092",
   "metadata": {},
   "source": [
    "The idea is to train a decision tree to understand what are the variables that affect most the target value, or if any variable does not affect it"
   ]
  },
  {
   "cell_type": "code",
   "execution_count": null,
   "id": "77cd5dbf-4012-4d0b-b26d-915b563aaec3",
   "metadata": {
    "tags": []
   },
   "outputs": [],
   "source": [
    "# Encoding:\n",
    "decision_tree = data.copy()\n",
    "\n",
    "object_cols = decision_tree.loc[:, data.dtypes == 'O']\n",
    "object_type_columns = [col for col in object_cols.columns]\n",
    "\n",
    "for column in object_type_columns:\n",
    "    decision_tree[f'{column}'] = LabelEncoder().fit_transform(decision_tree[f'{column}'])\n",
    "    \n",
    "features_for_importance=decision_tree.columns.to_list()\n",
    "features_for_importance.remove('HeartDisease')"
   ]
  },
  {
   "cell_type": "code",
   "execution_count": null,
   "id": "c9d47297-6bcc-49b6-adc2-e3ad5fb16022",
   "metadata": {
    "tags": []
   },
   "outputs": [],
   "source": [
    "clasifier = DecisionTreeClassifier()\n",
    "clasifier.fit(decision_tree.loc[:, decision_tree.columns != 'HeartDisease'], decision_tree['HeartDisease'])"
   ]
  },
  {
   "cell_type": "code",
   "execution_count": null,
   "id": "30485f40-5f36-4d56-807a-019da49ad743",
   "metadata": {},
   "outputs": [],
   "source": [
    "importances = clasifier.feature_importances_\n",
    "indices = np.argsort(importances)\n",
    "\n",
    "plt.figure(1)\n",
    "plt.title('Feature Importances')\n",
    "plt.barh(range(len(indices)), importances[indices], color='b', align='center')\n",
    "plt.yticks(range(len(indices)), np.array(features_for_importance)[indices])\n",
    "plt.xlabel('Relative Importance')"
   ]
  },
  {
   "cell_type": "markdown",
   "id": "1deb17ff-10fb-474d-9f6d-b1f1dffa5fe6",
   "metadata": {
    "tags": []
   },
   "source": [
    "#### Correlations"
   ]
  },
  {
   "cell_type": "code",
   "execution_count": null,
   "id": "99e6623e-9c31-46fc-b68d-cb6a7f16c4ac",
   "metadata": {},
   "outputs": [],
   "source": [
    "plt.figure(figsize=(20, 10))\n",
    "matrix = np.triu(data[numerical_features].corr())\n",
    "sns.heatmap(data[numerical_features].corr(), annot=True, mask=matrix)\n",
    "plt.show()\n",
    "plt.close()"
   ]
  },
  {
   "cell_type": "code",
   "execution_count": null,
   "id": "946f7746-785d-4208-becb-82046ed90cee",
   "metadata": {},
   "outputs": [],
   "source": [
    "data.corr().unstack().sort_values().drop_duplicates().head(10)"
   ]
  },
  {
   "cell_type": "code",
   "execution_count": null,
   "id": "b497d8e0-db04-444c-b8e7-120788ff2056",
   "metadata": {},
   "outputs": [],
   "source": [
    "data.corr().unstack().sort_values().drop_duplicates().tail(10)"
   ]
  },
  {
   "cell_type": "markdown",
   "id": "bceb5220-bf10-456f-924c-2266083cfb26",
   "metadata": {},
   "source": [
    "#### Unsupervised learning for hidden patterns: UMAP"
   ]
  },
  {
   "cell_type": "code",
   "execution_count": null,
   "id": "548740fd-8056-45e9-af1f-9ae38c938c35",
   "metadata": {},
   "outputs": [],
   "source": [
    "scaler = StandardScaler()\n",
    "\n",
    "data_clustering = data.copy()\n",
    "\n",
    "object_cols = data_clustering.loc[:, data_clustering.dtypes == 'O']\n",
    "object_type_columns = [col for col in object_cols.columns]\n",
    "\n",
    "for column in object_type_columns:\n",
    "    data_clustering[f'{column}'] = LabelEncoder().fit_transform(data_clustering[f'{column}'])\n",
    "data_clustering = scaler.fit_transform(data_clustering.loc[:, data.columns != 'HeartDisease'])"
   ]
  },
  {
   "cell_type": "code",
   "execution_count": null,
   "id": "27533579-61ec-4c2b-85f1-6d4db47a08f8",
   "metadata": {},
   "outputs": [],
   "source": [
    "umap_embeding = umap.UMAP(random_state=42).fit_transform(data_clustering)"
   ]
  },
  {
   "cell_type": "code",
   "execution_count": null,
   "id": "48e2e373-85f7-4608-a67d-fd1e8a1a23ef",
   "metadata": {},
   "outputs": [],
   "source": [
    "for n_of_components in range(0,12):\n",
    "    pca = PCA(n_components=n_of_components)\n",
    "    pca_embeding = pca.fit_transform(data_clustering)\n",
    "    print(f'Number of Components :{n_of_components}, {pca.explained_variance_ratio_.sum()}')"
   ]
  },
  {
   "cell_type": "code",
   "execution_count": null,
   "id": "67e36da1-916c-4859-bfc4-756637b1bbbb",
   "metadata": {
    "tags": []
   },
   "outputs": [],
   "source": [
    "pca = PCA(n_components=2)\n",
    "pca_embeding = pca.fit_transform(data_clustering)\n",
    "print(pca.explained_variance_ratio_.sum())"
   ]
  },
  {
   "cell_type": "code",
   "execution_count": null,
   "id": "c944850f-cb8d-460a-9525-9e30481f13ca",
   "metadata": {
    "tags": []
   },
   "outputs": [],
   "source": [
    "kmeans_true_labels = cluster.KMeans(n_clusters=2).fit_predict(data_clustering)\n",
    "kmeans_umap_labels = cluster.KMeans(n_clusters=2).fit_predict(umap_embeding[:, 0].reshape(-1, 1), umap_embeding[:, 1].reshape(-1, 1))\n",
    "kmeans_pca_labels = cluster.KMeans(n_clusters=2).fit_predict(pca_embeding[:, 0].reshape(-1, 1), pca_embeding[:, 1].reshape(-1, 1))"
   ]
  },
  {
   "cell_type": "code",
   "execution_count": null,
   "id": "9e712b7b-0c41-4edd-9cf9-619daac0f404",
   "metadata": {},
   "outputs": [],
   "source": [
    "def scatter_plot(axis1, axis2, color, title, xlabel, ylabel):\n",
    "    plt.figure(figsize=(20,10))\n",
    "    plt.scatter(axis1, axis2, c=color, cmap='Pastel1')\n",
    "    plt.title(f'{title}')\n",
    "    plt.xlabel(f'{xlabel}')\n",
    "    plt.ylabel(f'{ylabel}')\n",
    "    plt.show()\n",
    "    plt.close()"
   ]
  },
  {
   "cell_type": "code",
   "execution_count": null,
   "id": "7fc37090-f977-4cde-87b1-ea966e9e86f9",
   "metadata": {},
   "outputs": [],
   "source": [
    "scatter_plot(axis1=pca_embeding[:, 0].reshape(-1, 1),\n",
    "            axis2=pca_embeding[:, 1].reshape(-1, 1),\n",
    "            color=data['HeartDisease'],\n",
    "            title='Heart failure in PCA', \n",
    "            xlabel='Principal Component 1',\n",
    "            ylabel='Principal Component 2')\n",
    "scatter_plot(axis1=pca_embeding[:, 0].reshape(-1, 1),\n",
    "            axis2=pca_embeding[:, 1].reshape(-1, 1),\n",
    "            color=kmeans_true_labels,\n",
    "            title='K-means represented in PCA',\n",
    "            xlabel='Principal Component 1',\n",
    "            ylabel='Principal Component 2')\n",
    "scatter_plot(axis1=pca_embeding[:, 0].reshape(-1, 1),\n",
    "            axis2=pca_embeding[:, 1].reshape(-1, 1),\n",
    "            color=kmeans_pca_labels,\n",
    "            title='K-means calculated with in PCA',\n",
    "            xlabel='Principal Component 1',\n",
    "            ylabel='Principal Component 2')\n",
    "scatter_plot(axis1=pca_embeding[:, 0].reshape(-1, 1),\n",
    "            axis2=pca_embeding[:, 1].reshape(-1, 1),\n",
    "            color=kmeans_umap_labels,\n",
    "            title='K-means calculated with in UMAP',\n",
    "            xlabel='Principal Component 1',\n",
    "            ylabel='Principal Component 2')"
   ]
  },
  {
   "cell_type": "code",
   "execution_count": null,
   "id": "e4e5543a-45b6-4b59-9dfa-d81bc36a3e69",
   "metadata": {},
   "outputs": [],
   "source": [
    "scatter_plot(axis1=umap_embeding[:, 0].reshape(-1, 1),\n",
    "            axis2=umap_embeding[:, 1].reshape(-1, 1),\n",
    "            color=data['HeartDisease'],\n",
    "            title='Heart failure in PCA', \n",
    "            xlabel='UMAP embedding 1',\n",
    "            ylabel='UMAP embedding 2')\n",
    "scatter_plot(axis1=umap_embeding[:, 0].reshape(-1, 1),\n",
    "            axis2=umap_embeding[:, 1].reshape(-1, 1),\n",
    "            color=kmeans_true_labels,\n",
    "            title='K-means represented in PCA',\n",
    "            xlabel='UMAP embedding 1',\n",
    "            ylabel='UMAP embedding 2')\n",
    "scatter_plot(axis1=umap_embeding[:, 0].reshape(-1, 1),\n",
    "            axis2=umap_embeding[:, 1].reshape(-1, 1),\n",
    "            color=kmeans_pca_labels,\n",
    "            title='K-means calculated with in PCA',\n",
    "            xlabel='UMAP embedding 1',\n",
    "            ylabel='UMAP embedding 2')\n",
    "scatter_plot(axis1=umap_embeding[:, 0].reshape(-1, 1),\n",
    "            axis2=umap_embeding[:, 1].reshape(-1, 1),\n",
    "            color=kmeans_umap_labels,\n",
    "            title='K-means calculated with in UMAP',\n",
    "            xlabel='UMAP embedding 1',\n",
    "            ylabel='UMAP embedding 2')"
   ]
  },
  {
   "cell_type": "code",
   "execution_count": null,
   "id": "6c6efd70-5f63-44b7-89ea-80c353db4d0c",
   "metadata": {
    "tags": []
   },
   "outputs": [],
   "source": [
    "def get_results(label, method, method_name):\n",
    "    \"\"\"\n",
    "    df = pd.DataFrame(list(zip(label, method)), columns =['Label', f'{method_name}'])\n",
    "    print(df)\n",
    "    print(df.groupby([f'{method_name}']).count())\n",
    "    print(df.groupby([f'Label', f'{method_name}']))\n",
    "    \"\"\"\n",
    "    print(method_name)\n",
    "    cm = confusion_matrix(label, method)\n",
    "    disp = ConfusionMatrixDisplay(confusion_matrix=cm)\n",
    "    disp.plot()\n",
    "    plt.show()"
   ]
  },
  {
   "cell_type": "code",
   "execution_count": null,
   "id": "38623e9f-be34-458c-958d-84695d0811c6",
   "metadata": {},
   "outputs": [],
   "source": [
    "get_results(data['HeartDisease'], kmeans_true_labels, 'k means')\n",
    "get_results(data['HeartDisease'], kmeans_pca_labels, 'k means PCA')\n",
    "get_results(data['HeartDisease'], kmeans_umap_labels, 'k means UMAP')"
   ]
  },
  {
   "cell_type": "markdown",
   "id": "7977a365-2b1a-48eb-8c75-ce887bf06be3",
   "metadata": {},
   "source": [
    "### EDA: Conclusions"
   ]
  },
  {
   "cell_type": "markdown",
   "id": "59608d54-02fd-4d22-8447-f9be3f0ef4aa",
   "metadata": {},
   "source": [
    "More than one dataset has been created, depending on different decissions that have been taken in different phases of the EDA. \n"
   ]
  },
  {
   "cell_type": "markdown",
   "id": "e04163c3-80d1-4095-9c94-cd6238084268",
   "metadata": {
    "tags": []
   },
   "source": [
    "## Modeling"
   ]
  },
  {
   "cell_type": "markdown",
   "id": "c36fdf01-9d33-4a17-a287-140919736977",
   "metadata": {},
   "source": [
    "### Feature Engineering"
   ]
  },
  {
   "cell_type": "code",
   "execution_count": null,
   "id": "d46bd44f-9608-4bf2-a724-8917d664718e",
   "metadata": {
    "tags": []
   },
   "outputs": [],
   "source": []
  },
  {
   "cell_type": "code",
   "execution_count": null,
   "id": "3fb1fb4d-aca1-4dd2-b7ba-e7c16097c57f",
   "metadata": {},
   "outputs": [],
   "source": []
  },
  {
   "cell_type": "code",
   "execution_count": null,
   "id": "b4dad92a-5ed3-41d1-a800-ccec920d6ee2",
   "metadata": {},
   "outputs": [],
   "source": [
    "clf = GaussianNB()\n",
    "clf = LogisticRegression(random_state=0)\n",
    "clf = NearestNeighbors(n_neighbors=2)\n",
    "clf = svm.SVC()\n",
    "\n",
    "clf = RandomForestClassifier(max_depth=2, random_state=0)\n",
    "clf = xgb.XGBClassifier()\n",
    "clf = AdaBoostClassifier(n_estimators=100, random_state=0)\n",
    "clf = GradientBoostingClassifier()\n",
    "clf = LGBMClassifier()\n",
    "\n",
    "# Neural Net - pytorch"
   ]
  },
  {
   "cell_type": "code",
   "execution_count": null,
   "id": "1682b93f-d6e6-447c-acf8-abb9e0ba6451",
   "metadata": {},
   "outputs": [],
   "source": []
  }
 ],
 "metadata": {
  "kernelspec": {
   "display_name": "Python 3 (ipykernel)",
   "language": "python",
   "name": "python3"
  },
  "language_info": {
   "codemirror_mode": {
    "name": "ipython",
    "version": 3
   },
   "file_extension": ".py",
   "mimetype": "text/x-python",
   "name": "python",
   "nbconvert_exporter": "python",
   "pygments_lexer": "ipython3",
   "version": "3.7.7"
  },
  "toc-autonumbering": true
 },
 "nbformat": 4,
 "nbformat_minor": 5
}
