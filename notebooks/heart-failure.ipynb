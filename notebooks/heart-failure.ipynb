{
 "cells": [
  {
   "cell_type": "markdown",
   "id": "7be5e13c",
   "metadata": {},
   "source": [
    "# Heart Failure Prediction Notebook"
   ]
  },
  {
   "cell_type": "code",
   "execution_count": null,
   "id": "14009c03-a856-434c-b481-ca6c4389e8c6",
   "metadata": {},
   "outputs": [],
   "source": [
    "import pandas as pd\n",
    "import numpy as np\n",
    "import matplotlib.pyplot as plt\n",
    "import seaborn as sns\n",
    "import missingno as msno\n",
    "import scipy.stats as stats\n",
    "from scipy.stats import kurtosis, skew\n",
    "from scipy.stats import chi2_contingency\n",
    "from sklearn.preprocessing import LabelEncoder\n",
    "from sklearn.tree import DecisionTreeClassifier"
   ]
  },
  {
   "cell_type": "markdown",
   "id": "0991485c",
   "metadata": {},
   "source": [
    "## EDA"
   ]
  },
  {
   "cell_type": "code",
   "execution_count": null,
   "id": "c42c897d",
   "metadata": {},
   "outputs": [],
   "source": [
    "data = pd.read_csv('../data/data.csv')"
   ]
  },
  {
   "cell_type": "code",
   "execution_count": null,
   "id": "716d502d",
   "metadata": {},
   "outputs": [],
   "source": [
    "data.head()"
   ]
  },
  {
   "cell_type": "markdown",
   "id": "3d1dc0b2",
   "metadata": {},
   "source": [
    "### Descriptive Analytics"
   ]
  },
  {
   "cell_type": "code",
   "execution_count": null,
   "id": "fc2c27a7",
   "metadata": {},
   "outputs": [],
   "source": [
    "data.describe()"
   ]
  },
  {
   "cell_type": "code",
   "execution_count": null,
   "id": "218cf3ae",
   "metadata": {},
   "outputs": [],
   "source": [
    "data.shape"
   ]
  },
  {
   "cell_type": "code",
   "execution_count": null,
   "id": "45854fe3",
   "metadata": {},
   "outputs": [],
   "source": [
    "data.dtypes"
   ]
  },
  {
   "cell_type": "markdown",
   "id": "f8544bc8-6172-4a79-816c-6fb4d8c0ed41",
   "metadata": {},
   "source": [
    "#### Univariate analisis"
   ]
  },
  {
   "cell_type": "markdown",
   "id": "de5db5a6-ac5d-4a3a-9ade-88e0d1750435",
   "metadata": {},
   "source": [
    "###### Numerical Features"
   ]
  },
  {
   "cell_type": "code",
   "execution_count": null,
   "id": "27305b9f-70b1-4069-a799-dba97c6b1e2c",
   "metadata": {},
   "outputs": [],
   "source": [
    "numerical_features = ['Age', 'RestingBP', 'Cholesterol', 'MaxHR', 'Oldpeak']\n",
    "categorical_features = ['Sex', 'ChestPainType', 'RestingECG', 'ExerciseAngina', 'FastingBS', 'ST_Slope', 'HeartDisease']"
   ]
  },
  {
   "cell_type": "code",
   "execution_count": null,
   "id": "bdbbe2ae-c80d-485d-a108-d654e6f3f181",
   "metadata": {},
   "outputs": [],
   "source": [
    "def plot_variable_distribution(variable_name): \n",
    "    plt.figure(figsize=(20, 10))\n",
    "    sns.histplot(data=data, x=f\"{variable_name}\")\n",
    "    plt.xlabel(f\"{variable_name}\")\n",
    "    plt.savefig(f\"../results/EDA/{variable_name}_distribution.png\")\n",
    "    plt.show()\n",
    "    plt.close()"
   ]
  },
  {
   "cell_type": "code",
   "execution_count": null,
   "id": "226f5232-d62c-41e7-876c-2217727ec9f7",
   "metadata": {},
   "outputs": [],
   "source": [
    "for numerical_feature in numerical_features:\n",
    "    plot_variable_distribution(numerical_feature)\n",
    "    print( 'excess kurtosis of normal distribution (should be 0): {}'.format(kurtosis(data[f'{numerical_feature}'])))\n",
    "    print( 'skewness of normal distribution (should be 0): {}'.format(skew(data[f'{numerical_feature}'])))"
   ]
  },
  {
   "cell_type": "markdown",
   "id": "c6db64f9-2f8e-49b5-8826-485099ea753b",
   "metadata": {
    "tags": []
   },
   "source": [
    "###### Categorical Features"
   ]
  },
  {
   "cell_type": "code",
   "execution_count": null,
   "id": "9a4309c3-1988-4ce2-b9c5-564ec894bf7a",
   "metadata": {},
   "outputs": [],
   "source": [
    "def plot_categorical_feature_distribution(variable_name):\n",
    "    plt.figure(figsize=(20, 10))\n",
    "    ax = sns.countplot(x=f\"{variable_name}\", data=data)\n",
    "    for p in ax.patches:\n",
    "        ax.annotate(f'\\n{p.get_height()}', (p.get_x()+0.2, p.get_height()), ha='center', va='top', color='white', size=18)\n",
    "    plt.xlabel(f\"{column}\")\n",
    "    plt.savefig(f\"../results/EDA/{variable_name}_distribution.png\")\n",
    "    plt.show()\n",
    "    plt.close()"
   ]
  },
  {
   "cell_type": "code",
   "execution_count": null,
   "id": "7fef4576-5be8-45ce-83f5-50081b3ff967",
   "metadata": {
    "tags": []
   },
   "outputs": [],
   "source": [
    "for column in categorical_features: \n",
    "    plot_categorical_feature_distribution(column)"
   ]
  },
  {
   "cell_type": "markdown",
   "id": "1c194136-8cc6-4aee-ac21-cd91435c12a6",
   "metadata": {},
   "source": [
    "We can conclude that the dataset is not imbalaced, since there is no minorty class and we have a almost 50 / 50 ratio between those how suffered a heart failure and those that no"
   ]
  },
  {
   "cell_type": "code",
   "execution_count": null,
   "id": "5897352c-cc20-475b-8c37-cfd69f6c550d",
   "metadata": {
    "tags": []
   },
   "outputs": [],
   "source": [
    "symetric_distribution_features = ['Age', 'Cholesterol', 'MaxHR']"
   ]
  },
  {
   "cell_type": "code",
   "execution_count": null,
   "id": "9321d105-3bae-4ecf-b858-96c2dd46a4ba",
   "metadata": {},
   "outputs": [],
   "source": [
    "asymetric_distribution_features = ['RestingBP', 'Oldpeak']"
   ]
  },
  {
   "cell_type": "markdown",
   "id": "fd6d82d9-b053-4041-bee5-0a2bed68a96f",
   "metadata": {},
   "source": [
    "### Missing Values"
   ]
  },
  {
   "cell_type": "code",
   "execution_count": null,
   "id": "d2b7e528-a11e-4e4c-8de6-91b532c58134",
   "metadata": {},
   "outputs": [],
   "source": [
    "msno.matrix(data)"
   ]
  },
  {
   "cell_type": "code",
   "execution_count": null,
   "id": "30161740-5958-4f24-ac9a-6758fcbafab7",
   "metadata": {},
   "outputs": [],
   "source": [
    "msno.bar(data)"
   ]
  },
  {
   "cell_type": "markdown",
   "id": "07ae5c50-5056-46e2-acd4-495e33d7d5d7",
   "metadata": {},
   "source": [
    "There are no missing values in this dataset. But there are some anomalies in the cholesterol feature."
   ]
  },
  {
   "cell_type": "code",
   "execution_count": null,
   "id": "9e0f0d70-9f61-4ebc-b979-338b86258cad",
   "metadata": {},
   "outputs": [],
   "source": [
    "data['Cholesterol'] == 0"
   ]
  },
  {
   "cell_type": "code",
   "execution_count": null,
   "id": "44806470-c410-4860-ae99-86fc26b4d011",
   "metadata": {},
   "outputs": [],
   "source": [
    "print(f'There are {data['Cholesterol'][data['Cholesterol'] == 0].count()} 0´s in Cholesterol')"
   ]
  },
  {
   "cell_type": "markdown",
   "id": "a2715a6c",
   "metadata": {},
   "source": [
    "### Outlier Detection"
   ]
  },
  {
   "cell_type": "code",
   "execution_count": null,
   "id": "c6739ae0-1d13-4cef-846f-944d8fe3fe7d",
   "metadata": {},
   "outputs": [],
   "source": [
    "def mean_3_std(variable_name):\n",
    "    data_mean, data_std = np.mean(data[f'{variable_name}']), np.std(data[f'{variable_name}'])\n",
    "    cut_off = data_std * 3\n",
    "    lower, upper = data_mean - cut_off, data_mean + cut_off\n",
    "    outliers_lower = [x for x in data[f'{variable_name}'] if x < lower]\n",
    "    outliers_upper = [x for x in data[f'{variable_name}'] if x > upper]\n",
    "    print(f'Variable {variable_name}: Lower outliers {outliers_lower}, Upper outliers {outliers_upper}, boundaries {lower}, {upper}')"
   ]
  },
  {
   "cell_type": "code",
   "execution_count": null,
   "id": "0869ba36-c173-4fae-b564-50d072737873",
   "metadata": {
    "tags": []
   },
   "outputs": [],
   "source": [
    "def plot_intercuartile_range(variable_name):\n",
    "    plt.figure(figsize=(20, 10))\n",
    "    sns.boxplot(data=data, x=f\"{variable_name}\")\n",
    "    plt.xlabel(f\"{variable_name}\")\n",
    "    plt.savefig(f\"../results/EDA/{variable_name}_outliers.png\")\n",
    "    plt.show()\n",
    "    plt.close()"
   ]
  },
  {
   "cell_type": "code",
   "execution_count": null,
   "id": "901ca649-0e43-4a8f-814e-0b227947ee75",
   "metadata": {},
   "outputs": [],
   "source": [
    "for symetric_distribution_feature in symetric_distribution_features:\n",
    "    mean_3_std(symetric_distribution_feature)"
   ]
  },
  {
   "cell_type": "code",
   "execution_count": null,
   "id": "971c33ac-4b08-4bc9-a278-aeee99819045",
   "metadata": {
    "tags": []
   },
   "outputs": [],
   "source": [
    "for numerical_feature in numerical_features:\n",
    "    plot_intercuartile_range(numerical_feature)"
   ]
  },
  {
   "cell_type": "code",
   "execution_count": null,
   "id": "cbe50e91-858d-4ed2-a1d1-79478287cd35",
   "metadata": {},
   "outputs": [],
   "source": []
  },
  {
   "cell_type": "markdown",
   "id": "b741ee07-33b1-45a9-aef9-3f0ab48705c3",
   "metadata": {},
   "source": [
    "### Multivariate Analysis"
   ]
  },
  {
   "cell_type": "markdown",
   "id": "08300d77-cf5a-4556-a82f-4bb18e324a45",
   "metadata": {},
   "source": [
    "The target column in this case is very clear, HeartDisease. We already know that it is not balanced, but know we will try to detect any pattern. "
   ]
  },
  {
   "cell_type": "markdown",
   "id": "1c9a9f4d-0cd4-4501-9958-964449a4e70a",
   "metadata": {},
   "source": [
    "#### Numerical features: Plots"
   ]
  },
  {
   "cell_type": "code",
   "execution_count": null,
   "id": "24b22cc7-80c2-4314-8bbb-f49d6aa002c1",
   "metadata": {},
   "outputs": [],
   "source": [
    "def distribution_acording_to_target_value(variable_name):\n",
    "    plt.figure(figsize=(20, 10))\n",
    "    plt.title(f\"Distribution of {variable_name}\")\n",
    "    ax = sns.violinplot(x=\"HeartDisease\", y=f\"{variable_name}\",\n",
    "                    data=data, palette=\"Set2\", split=True,\n",
    "                    scale=\"count\")\n",
    "    plt.xlabel(f\"{variable_name}\")\n",
    "    plt.savefig(f\"../results/EDA/violin_{variable_name}.png\")\n",
    "    plt.show()\n",
    "    plt.close()\n",
    "    \n",
    "    plt.figure(figsize=(20, 10))\n",
    "    ax = sns.boxplot(x=\"HeartDisease\", y=f\"{variable_name}\", data=data, palette=\"Set2\")\n",
    "    plt.xlabel(f\"{variable_name}\")\n",
    "    plt.savefig(f\"../results/EDA/distribution_{variable_name}_target.png\")\n",
    "    plt.show()\n",
    "    plt.close()"
   ]
  },
  {
   "cell_type": "code",
   "execution_count": null,
   "id": "8b3c1e3a-5429-4b3c-bf29-f2645a01ca51",
   "metadata": {
    "tags": []
   },
   "outputs": [],
   "source": [
    "for numerical_feature in numerical_features: \n",
    "    distribution_acording_to_target_value(numerical_feature)\n",
    "    "
   ]
  },
  {
   "cell_type": "markdown",
   "id": "be90645e-4ffb-4c9d-8528-09a48a9fb7e0",
   "metadata": {},
   "source": [
    "#### Categorical features: Plots"
   ]
  },
  {
   "cell_type": "code",
   "execution_count": null,
   "id": "85d7532c-9e8f-4eba-8671-1679505765cd",
   "metadata": {
    "tags": []
   },
   "outputs": [],
   "source": [
    "def categorical_distribution_acording_to_target_value(variable_name):\n",
    "    plt.figure(figsize=(20, 10))\n",
    "    plt.title(f\"Distribution of {variable_name}\")\n",
    "    ax = sns.countplot(x=f\"{variable_name}\", hue=\"HeartDisease\", data=data)\n",
    "    for p in ax.patches:\n",
    "        ax.annotate(f'\\n{p.get_height()}', (p.get_x()+0.2, p.get_height()), ha='center', va='top', color='white', size=14)\n",
    "    plt.xlabel(f\"{variable_name}\")\n",
    "    plt.savefig(f\"../results/EDA/distribution_{variable_name}_targetb.png\")\n",
    "    plt.show()\n",
    "    plt.close()"
   ]
  },
  {
   "cell_type": "code",
   "execution_count": null,
   "id": "25b9ec4b-9956-4649-b074-83ad43cf3774",
   "metadata": {
    "tags": []
   },
   "outputs": [],
   "source": [
    "for categorical_feature in categorical_features[:-1]: \n",
    "    categorical_distribution_acording_to_target_value(categorical_feature)"
   ]
  },
  {
   "cell_type": "markdown",
   "id": "f4f1045f-95cd-4f3e-99ce-229624f8f7ab",
   "metadata": {
    "tags": []
   },
   "source": [
    "#### ANOVA analysis"
   ]
  },
  {
   "cell_type": "markdown",
   "id": "5d6623d4-8347-4329-9140-1bd8910fafe3",
   "metadata": {},
   "source": [
    "The idea of this analysis is to see if there is any connection between the target values and the different numerical variables."
   ]
  },
  {
   "cell_type": "code",
   "execution_count": null,
   "id": "abb8b5b4-f4d8-494e-bda7-4d2ecc28ea35",
   "metadata": {
    "tags": []
   },
   "outputs": [],
   "source": [
    "for numerical_feauture in numerical_features:\n",
    "    none_relevant_features = []\n",
    "    p_value = 0.05\n",
    "    anova_test = stats.f_oneway(data[f'{numerical_feauture}'][data['HeartDisease'] == 0], data[f'{numerical_feauture}'][data['HeartDisease'] == 1])\n",
    "    if anova_test[1] > p_value:\n",
    "        none_relevant_features.append(feature)"
   ]
  },
  {
   "cell_type": "markdown",
   "id": "d311236f-f56a-456e-aee7-4b67b446114a",
   "metadata": {},
   "source": [
    "#### Chi analysis"
   ]
  },
  {
   "cell_type": "markdown",
   "id": "06c4dc5f-e1cf-476e-b05d-9f21d7c02026",
   "metadata": {},
   "source": [
    "The idea of this analysis is to see if there is any connection between the target values and the different categorical variables."
   ]
  },
  {
   "cell_type": "code",
   "execution_count": null,
   "id": "c01255e1-680d-4d56-9043-fed0d4960ba6",
   "metadata": {},
   "outputs": [],
   "source": [
    "p_value = 0.05\n",
    "for categorical_feature in categorical_features:\n",
    "    ct = pd.crosstab(data[f'{categorical_feature}'], data['HeartDisease'], margins=True)\n",
    "    ct = ct.drop(\"All\", axis=1).drop(\"All\", axis=0)\n",
    "    obs = np.array(ct.values)\n",
    "    if stats.chi2_contingency(obs)[0:3][1] > p_value:\n",
    "        none_relevant_features.append(f'{categorical_feature}')\n",
    "print(none_relevant_features) "
   ]
  },
  {
   "cell_type": "markdown",
   "id": "d2154db3-7c67-4ac9-b312-5213c47b1cad",
   "metadata": {},
   "source": [
    "#### Decistion Tree: Feature understanding"
   ]
  },
  {
   "cell_type": "markdown",
   "id": "41c41a98-8fae-4c44-8448-1d0dffd9b092",
   "metadata": {},
   "source": [
    "The idea is to train a decision tree to understand what are the variables that affect most the target value, or if any variable does not affect it"
   ]
  },
  {
   "cell_type": "code",
   "execution_count": null,
   "id": "77cd5dbf-4012-4d0b-b26d-915b563aaec3",
   "metadata": {
    "tags": []
   },
   "outputs": [],
   "source": [
    "# Encoding:\n",
    "decision_tree = data.copy()\n",
    "\n",
    "object_cols = decision_tree.loc[:, data.dtypes == 'O']\n",
    "object_type_columns = [col for col in object_cols.columns]\n",
    "\n",
    "for column in object_type_columns:\n",
    "    decision_tree[f'{column}'] = LabelEncoder().fit_transform(decision_tree[f'{column}'])\n",
    "    \n",
    "features_for_importance=decision_tree.columns.to_list()\n",
    "features_for_importance.remove('HeartDisease')"
   ]
  },
  {
   "cell_type": "code",
   "execution_count": null,
   "id": "c9d47297-6bcc-49b6-adc2-e3ad5fb16022",
   "metadata": {
    "tags": []
   },
   "outputs": [],
   "source": [
    "clasifier = DecisionTreeClassifier()\n",
    "clasifier.fit(decision_tree.loc[:, decision_tree.columns != 'HeartDisease'], decision_tree['HeartDisease'])"
   ]
  },
  {
   "cell_type": "code",
   "execution_count": null,
   "id": "30485f40-5f36-4d56-807a-019da49ad743",
   "metadata": {},
   "outputs": [],
   "source": [
    "importances = clasifier.feature_importances_\n",
    "indices = np.argsort(importances)\n",
    "\n",
    "plt.figure(1)\n",
    "plt.title('Feature Importances')\n",
    "plt.barh(range(len(indices)), importances[indices], color='b', align='center')\n",
    "plt.yticks(range(len(indices)), np.array(features_for_importance)[indices])\n",
    "plt.xlabel('Relative Importance')"
   ]
  },
  {
   "cell_type": "markdown",
   "id": "1deb17ff-10fb-474d-9f6d-b1f1dffa5fe6",
   "metadata": {
    "tags": []
   },
   "source": [
    "#### Correlations"
   ]
  },
  {
   "cell_type": "code",
   "execution_count": null,
   "id": "99e6623e-9c31-46fc-b68d-cb6a7f16c4ac",
   "metadata": {},
   "outputs": [],
   "source": [
    "plt.figure(figsize=(20, 10))\n",
    "matrix = np.triu(data[numerical_features].corr())\n",
    "sns.heatmap(data[numerical_features].corr(), annot=True, mask=matrix)\n",
    "plt.show()\n",
    "plt.close()"
   ]
  },
  {
   "cell_type": "code",
   "execution_count": null,
   "id": "946f7746-785d-4208-becb-82046ed90cee",
   "metadata": {},
   "outputs": [],
   "source": [
    "data.corr().unstack().sort_values().drop_duplicates().head(10)"
   ]
  },
  {
   "cell_type": "code",
   "execution_count": null,
   "id": "b497d8e0-db04-444c-b8e7-120788ff2056",
   "metadata": {},
   "outputs": [],
   "source": [
    "data.corr().unstack().sort_values().drop_duplicates().tail(10)"
   ]
  },
  {
   "cell_type": "code",
   "execution_count": null,
   "id": "dd3998f3-db83-4531-8e75-205f1e0fcb5e",
   "metadata": {},
   "outputs": [],
   "source": []
  }
 ],
 "metadata": {
  "kernelspec": {
   "display_name": "Python 3 (ipykernel)",
   "language": "python",
   "name": "python3"
  },
  "language_info": {
   "codemirror_mode": {
    "name": "ipython",
    "version": 3
   },
   "file_extension": ".py",
   "mimetype": "text/x-python",
   "name": "python",
   "nbconvert_exporter": "python",
   "pygments_lexer": "ipython3",
   "version": "3.7.7"
  },
  "toc-autonumbering": true
 },
 "nbformat": 4,
 "nbformat_minor": 5
}
